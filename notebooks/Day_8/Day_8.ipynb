{
 "cells": [
  {
   "cell_type": "markdown",
   "metadata": {},
   "source": [
    "# Part One\n",
    "---"
   ]
  },
  {
   "cell_type": "code",
   "execution_count": 1,
   "metadata": {},
   "outputs": [],
   "source": [
    "code = []\n",
    "with open('code.txt') as f:\n",
    "    for line in f:\n",
    "        op, val = line.strip().split(' ')\n",
    "        code.append((op, int(val)))"
   ]
  },
  {
   "cell_type": "code",
   "execution_count": 2,
   "metadata": {},
   "outputs": [],
   "source": [
    "def execute(code):\n",
    "    acc = 0\n",
    "    i = 0\n",
    "    rows = []\n",
    "    while True:\n",
    "        if i == len(code):\n",
    "            return True, acc, rows\n",
    "\n",
    "        if i in rows:\n",
    "            rows.append(i)\n",
    "            return False, acc, rows\n",
    "            break\n",
    "            \n",
    "        op, val = code[i]\n",
    "        \n",
    "        rows.append(i)\n",
    "\n",
    "        if op == 'acc':\n",
    "            acc += val\n",
    "            i += 1\n",
    "        if op == 'jmp':\n",
    "            i += val\n",
    "        if op == 'nop':\n",
    "            i += 1\n"
   ]
  },
  {
   "cell_type": "code",
   "execution_count": 3,
   "metadata": {},
   "outputs": [],
   "source": [
    "finished, acc, rows = execute(code)"
   ]
  },
  {
   "cell_type": "code",
   "execution_count": 4,
   "metadata": {},
   "outputs": [
    {
     "name": "stdout",
     "output_type": "stream",
     "text": [
      "Answer: 1521\n"
     ]
    }
   ],
   "source": [
    "print(f\"Answer:\", acc)"
   ]
  },
  {
   "cell_type": "markdown",
   "metadata": {},
   "source": [
    "# Part Two\n",
    "---"
   ]
  },
  {
   "cell_type": "code",
   "execution_count": 5,
   "metadata": {},
   "outputs": [],
   "source": [
    "from copy import deepcopy"
   ]
  },
  {
   "cell_type": "code",
   "execution_count": 6,
   "metadata": {},
   "outputs": [],
   "source": [
    "modified_code = deepcopy(code)    \n",
    "for i in rows[::-1]:\n",
    "    op, val = modified_code[i]\n",
    "    if op == 'jmp':\n",
    "        modified_code[i] = (('nop', val))\n",
    "        finished, acc, _ = execute(modified_code)\n",
    "        if finished:\n",
    "            break\n",
    "        modified_code = deepcopy(code)    \n",
    "        \n",
    "        \n",
    "    if op == 'nop':\n",
    "        modified_code[i] = (('jmp', val))\n",
    "        finished, acc, _ = execute(modified_code)\n",
    "        \n",
    "        if finished:\n",
    "            break \n",
    "        modified_code = deepcopy(code)    \n",
    "        "
   ]
  },
  {
   "cell_type": "code",
   "execution_count": 7,
   "metadata": {},
   "outputs": [
    {
     "name": "stdout",
     "output_type": "stream",
     "text": [
      "Answer: 1016\n"
     ]
    }
   ],
   "source": [
    "if finished:\n",
    "    print(f\"Answer:\", acc)"
   ]
  }
 ],
 "metadata": {
  "kernelspec": {
   "display_name": "Python 3",
   "language": "python",
   "name": "python3"
  },
  "language_info": {
   "codemirror_mode": {
    "name": "ipython",
    "version": 3
   },
   "file_extension": ".py",
   "mimetype": "text/x-python",
   "name": "python",
   "nbconvert_exporter": "python",
   "pygments_lexer": "ipython3",
   "version": "3.8.5"
  }
 },
 "nbformat": 4,
 "nbformat_minor": 4
}
