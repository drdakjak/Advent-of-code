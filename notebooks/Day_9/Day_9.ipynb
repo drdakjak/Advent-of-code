{
 "cells": [
  {
   "cell_type": "code",
   "execution_count": 1,
   "metadata": {},
   "outputs": [],
   "source": [
    "import numpy as np"
   ]
  },
  {
   "cell_type": "markdown",
   "metadata": {},
   "source": [
    "# Part One\n",
    "---"
   ]
  },
  {
   "cell_type": "code",
   "execution_count": 32,
   "metadata": {},
   "outputs": [],
   "source": [
    "xmas = []\n",
    "with open('xmas.txt') as f:\n",
    "    for line in f:\n",
    "        xmas.append(int(line.strip()))\n",
    "xmas = np.array(xmas)"
   ]
  },
  {
   "cell_type": "code",
   "execution_count": 4,
   "metadata": {},
   "outputs": [],
   "source": [
    "def pairwise_sum(xmas):\n",
    "    s = set()\n",
    "    for i in range(len(xmas)):\n",
    "        for j in range(i, len(xmas)):\n",
    "            s.add(xmas[i] + xmas[j])\n",
    "    return s"
   ]
  },
  {
   "cell_type": "code",
   "execution_count": 5,
   "metadata": {},
   "outputs": [],
   "source": [
    "for i in range(25, len(xmas)):\n",
    "    val = xmas[i]\n",
    "    valid_vals = pairwise_sum(xmas[i-25: i])\n",
    "    \n",
    "    if val not in valid_vals:\n",
    "        pos = i\n",
    "        break"
   ]
  },
  {
   "cell_type": "code",
   "execution_count": 6,
   "metadata": {},
   "outputs": [
    {
     "name": "stdout",
     "output_type": "stream",
     "text": [
      "Answer: 32321523\n"
     ]
    }
   ],
   "source": [
    "print(f\"Answer:\", val)"
   ]
  },
  {
   "cell_type": "markdown",
   "metadata": {},
   "source": [
    "# Part Two\n",
    "---"
   ]
  },
  {
   "cell_type": "code",
   "execution_count": 27,
   "metadata": {},
   "outputs": [],
   "source": [
    "def find_set(data):\n",
    "    for length in range(2, pos-1):\n",
    "        for i in range(pos - length):\n",
    "            if data[i:i+length].sum() == val:\n",
    "                return data[i:i+length]"
   ]
  },
  {
   "cell_type": "code",
   "execution_count": 30,
   "metadata": {},
   "outputs": [],
   "source": [
    "set_ = find_set(xmas)"
   ]
  },
  {
   "cell_type": "code",
   "execution_count": 31,
   "metadata": {},
   "outputs": [
    {
     "name": "stdout",
     "output_type": "stream",
     "text": [
      "Answer: 4794981\n"
     ]
    }
   ],
   "source": [
    "print(f\"Answer:\", min(set_)+max(set_))"
   ]
  }
 ],
 "metadata": {
  "kernelspec": {
   "display_name": "Python 3",
   "language": "python",
   "name": "python3"
  },
  "language_info": {
   "codemirror_mode": {
    "name": "ipython",
    "version": 3
   },
   "file_extension": ".py",
   "mimetype": "text/x-python",
   "name": "python",
   "nbconvert_exporter": "python",
   "pygments_lexer": "ipython3",
   "version": "3.8.5"
  }
 },
 "nbformat": 4,
 "nbformat_minor": 4
}
