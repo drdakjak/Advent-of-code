{
 "cells": [
  {
   "cell_type": "markdown",
   "metadata": {},
   "source": [
    "# Part One\n",
    "---"
   ]
  },
  {
   "cell_type": "code",
   "execution_count": null,
   "metadata": {},
   "outputs": [],
   "source": [
    "instructions = []\n",
    "with open('navigation_instructions.txt') as f:\n",
    "    for line in f:\n",
    "        line = line.strip()\n",
    "        action, value = line[0], int(line[1:])\n",
    "        instructions.append((action, value))"
   ]
  },
  {
   "cell_type": "code",
   "execution_count": 2,
   "metadata": {},
   "outputs": [],
   "source": [
    "cardinal_directions = 'NESW'"
   ]
  },
  {
   "cell_type": "code",
   "execution_count": 3,
   "metadata": {},
   "outputs": [],
   "source": [
    "def move(action, value):\n",
    "    \"\"\"\n",
    "        N\n",
    "    W   0   E\n",
    "        S\n",
    "    \"\"\"\n",
    "    global vertical, horizontal\n",
    "    if action == 'N':\n",
    "        vertical += value\n",
    "    if action == 'S':\n",
    "        vertical -= value\n",
    "    if action == 'W':\n",
    "        horizontal -= value\n",
    "    if action == 'E':\n",
    "        horizontal += value"
   ]
  },
  {
   "cell_type": "code",
   "execution_count": 4,
   "metadata": {},
   "outputs": [],
   "source": [
    "def turn(action, value):\n",
    "    global direction\n",
    "    value = value / 90\n",
    "    index = int((cardinal_directions.index(direction) + value) % 4)\n",
    "    direction = cardinal_directions[index]"
   ]
  },
  {
   "cell_type": "code",
   "execution_count": 5,
   "metadata": {},
   "outputs": [],
   "source": [
    "horizontal = 0 \n",
    "vertical = 0\n",
    "direction = 'E'\n",
    "for instruction in instructions:\n",
    "    action, value = instruction\n",
    "    if action == 'L':\n",
    "        turn(action, -value)\n",
    "    elif action == 'R':\n",
    "        turn(action, value)\n",
    "    elif action == 'F':\n",
    "        move(direction, value)\n",
    "    else:\n",
    "        move(action, value)\n"
   ]
  },
  {
   "cell_type": "code",
   "execution_count": 6,
   "metadata": {},
   "outputs": [],
   "source": [
    "manhattan_distance = lambda x,y: abs(x) + abs(y)"
   ]
  },
  {
   "cell_type": "code",
   "execution_count": 7,
   "metadata": {},
   "outputs": [
    {
     "name": "stdout",
     "output_type": "stream",
     "text": [
      "Answer: 521\n"
     ]
    }
   ],
   "source": [
    "print(f\"Answer: {manhattan_distance(horizontal, vertical)}\")"
   ]
  },
  {
   "cell_type": "markdown",
   "metadata": {},
   "source": [
    "Part Two\n",
    "---"
   ]
  },
  {
   "cell_type": "code",
   "execution_count": 8,
   "metadata": {},
   "outputs": [],
   "source": [
    "import numpy as np"
   ]
  },
  {
   "cell_type": "code",
   "execution_count": 9,
   "metadata": {},
   "outputs": [],
   "source": [
    "# N, E, S, W\n",
    "waypoint = np.array([1,10,0,0])\n",
    "position = np.array([0,0,0,0])"
   ]
  },
  {
   "cell_type": "code",
   "execution_count": 10,
   "metadata": {},
   "outputs": [],
   "source": [
    "def forward(value):\n",
    "    global waypoint, position    \n",
    "    position += waypoint * value \n",
    "    \n",
    "def move(action, value):\n",
    "    global waypoint\n",
    "    \"\"\"\n",
    "    N E S W\n",
    "    0 1 2 3\n",
    "    \"\"\"\n",
    "    if action == 'N':\n",
    "        waypoint[0] += value\n",
    "    if action == 'E':\n",
    "        waypoint[1] += value\n",
    "    if action == 'S':\n",
    "        waypoint[2] += value\n",
    "    if action == 'W':\n",
    "        waypoint[3] += value\n",
    "    \n",
    "\n",
    "def rotate(value):\n",
    "    global waypoint\n",
    "    value = int(value / 90)\n",
    "    waypoint = np.roll(waypoint, value)"
   ]
  },
  {
   "cell_type": "code",
   "execution_count": 11,
   "metadata": {},
   "outputs": [],
   "source": [
    "for instruction in instructions:\n",
    "    action, value = instruction\n",
    "    if action == 'L':\n",
    "        rotate(-value)\n",
    "    elif action == 'R':\n",
    "        rotate(value)\n",
    "    elif action == 'F':\n",
    "        forward(value)\n",
    "    else:\n",
    "        move(action, value)\n"
   ]
  },
  {
   "cell_type": "code",
   "execution_count": 13,
   "metadata": {},
   "outputs": [],
   "source": [
    "distance = manhattan_distance(position[0] - position[2], position[1] - position[3])"
   ]
  },
  {
   "cell_type": "code",
   "execution_count": 14,
   "metadata": {},
   "outputs": [
    {
     "name": "stdout",
     "output_type": "stream",
     "text": [
      "Answer: 22848\n"
     ]
    }
   ],
   "source": [
    "print(f\"Answer: {distance}\")"
   ]
  }
 ],
 "metadata": {
  "kernelspec": {
   "display_name": "Python 3",
   "language": "python",
   "name": "python3"
  },
  "language_info": {
   "codemirror_mode": {
    "name": "ipython",
    "version": 3
   },
   "file_extension": ".py",
   "mimetype": "text/x-python",
   "name": "python",
   "nbconvert_exporter": "python",
   "pygments_lexer": "ipython3",
   "version": "3.8.5"
  }
 },
 "nbformat": 4,
 "nbformat_minor": 4
}
