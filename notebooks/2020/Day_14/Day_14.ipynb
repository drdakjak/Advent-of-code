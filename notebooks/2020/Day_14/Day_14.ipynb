{
 "cells": [
  {
   "cell_type": "markdown",
   "metadata": {},
   "source": [
    "# Part One\n",
    "---"
   ]
  },
  {
   "cell_type": "code",
   "execution_count": 1,
   "metadata": {},
   "outputs": [],
   "source": [
    "import re\n",
    "from collections import defaultdict\n",
    "\n",
    "import numpy as np"
   ]
  },
  {
   "cell_type": "code",
   "execution_count": 2,
   "metadata": {},
   "outputs": [],
   "source": [
    "memory = defaultdict(int)"
   ]
  },
  {
   "cell_type": "code",
   "execution_count": 3,
   "metadata": {},
   "outputs": [],
   "source": [
    "n_preffix = len('mask = ')"
   ]
  },
  {
   "cell_type": "code",
   "execution_count": 4,
   "metadata": {},
   "outputs": [],
   "source": [
    "def bitlist2int(blist):\n",
    "    return int(''.join(blist), 2)\n",
    "\n",
    "def int2bitlist(value):\n",
    "    return list(f\"{value:036b}\")"
   ]
  },
  {
   "cell_type": "code",
   "execution_count": 6,
   "metadata": {},
   "outputs": [],
   "source": [
    "with open('code.txt') as f:\n",
    "    for line in f:\n",
    "        line = line.strip()\n",
    "        if 'mask' in line:\n",
    "            mask = line[n_preffix:]\n",
    "            mask = [(i, b) for i, b in enumerate(mask) if b != 'X']\n",
    "            continue\n",
    "        index, value = re.findall('\\d+', line)\n",
    "        index, value = int(index), int(value)\n",
    "        \n",
    "        value = int2bitlist(value)\n",
    "        for ix, bit in mask:\n",
    "            value[ix] = bit\n",
    "        memory[index] = bitlist2int(value)"
   ]
  },
  {
   "cell_type": "code",
   "execution_count": 7,
   "metadata": {},
   "outputs": [
    {
     "name": "stdout",
     "output_type": "stream",
     "text": [
      "Answer:  11501064782628\n"
     ]
    }
   ],
   "source": [
    "print(f\"Answer: \", sum(memory.values()))"
   ]
  },
  {
   "cell_type": "markdown",
   "metadata": {},
   "source": [
    "# Part Two\n",
    "---"
   ]
  },
  {
   "cell_type": "code",
   "execution_count": 8,
   "metadata": {},
   "outputs": [],
   "source": [
    "from copy import deepcopy"
   ]
  },
  {
   "cell_type": "code",
   "execution_count": 9,
   "metadata": {},
   "outputs": [],
   "source": [
    "memory = defaultdict(int)"
   ]
  },
  {
   "cell_type": "code",
   "execution_count": 14,
   "metadata": {},
   "outputs": [],
   "source": [
    "def generate_index(index, variation):\n",
    "    index_ = index.copy()\n",
    "    j = 1\n",
    "    for i, val in enumerate(index):\n",
    "        if val == 'X':\n",
    "            index_[i] = variation[-j]\n",
    "            j += 1\n",
    "    return bitlist2int(index_)"
   ]
  },
  {
   "cell_type": "code",
   "execution_count": 10,
   "metadata": {},
   "outputs": [],
   "source": [
    "with open('code.txt') as f:\n",
    "    for line in f:\n",
    "        line = line.strip()\n",
    "        if 'mask' in line:\n",
    "            mask = line[n_preffix:]\n",
    "            n_floating = len(re.findall('X', line))\n",
    "            mask = [(i, b) for i, b in enumerate(mask) if b != '0']\n",
    "            continue\n",
    "            \n",
    "        index, value = re.findall('\\d+', line)\n",
    "        index, value = int(index), int(value)\n",
    "        \n",
    "        index = int2bitlist(index)\n",
    "        for ix, bit in mask:\n",
    "            index[ix] = bit\n",
    "            \n",
    "        for variation in range(2**n_floating):\n",
    "            variation = int2bitlist(variation)\n",
    "            \n",
    "            index_ = generate_index(index, variaton)\n",
    "            memory[index_] = value\n"
   ]
  },
  {
   "cell_type": "code",
   "execution_count": 11,
   "metadata": {},
   "outputs": [
    {
     "name": "stdout",
     "output_type": "stream",
     "text": [
      "Answer:  5142195937660\n"
     ]
    }
   ],
   "source": [
    "print(f\"Answer: \", sum(memory.values()))"
   ]
  }
 ],
 "metadata": {
  "kernelspec": {
   "display_name": "Python 3",
   "language": "python",
   "name": "python3"
  },
  "language_info": {
   "codemirror_mode": {
    "name": "ipython",
    "version": 3
   },
   "file_extension": ".py",
   "mimetype": "text/x-python",
   "name": "python",
   "nbconvert_exporter": "python",
   "pygments_lexer": "ipython3",
   "version": "3.8.5"
  }
 },
 "nbformat": 4,
 "nbformat_minor": 4
}
