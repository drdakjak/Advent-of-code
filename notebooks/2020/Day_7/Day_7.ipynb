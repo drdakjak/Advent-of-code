{
 "cells": [
  {
   "cell_type": "code",
   "execution_count": 1,
   "metadata": {},
   "outputs": [],
   "source": [
    "from collections import defaultdict"
   ]
  },
  {
   "cell_type": "markdown",
   "metadata": {},
   "source": [
    "# Part One\n",
    "---"
   ]
  },
  {
   "cell_type": "code",
   "execution_count": 2,
   "metadata": {},
   "outputs": [],
   "source": [
    "with open('rules.txt') as f:\n",
    "    lines = f.read().splitlines()\n",
    "\n",
    "rules = defaultdict(set)\n",
    "for line in lines:\n",
    "    key, bags = line.split('contain')\n",
    "    key = ' '.join(key.strip().split(' ')[:-1])\n",
    "    bags = {' '.join(bag.strip().split(' ')[1:-1]): bag.strip().split(' ')[0] for bag in bags.strip().split(',')}\n",
    "    for bag in bags:\n",
    "        rules[bag].add(key)\n"
   ]
  },
  {
   "cell_type": "code",
   "execution_count": 3,
   "metadata": {},
   "outputs": [],
   "source": [
    "target = 'shiny gold'"
   ]
  },
  {
   "cell_type": "code",
   "execution_count": 4,
   "metadata": {},
   "outputs": [],
   "source": [
    "def find_colors(bag):\n",
    "    bags = rules[bag]\n",
    "\n",
    "    if len(bags) == 0:\n",
    "        return []\n",
    "    \n",
    "    paths = []\n",
    "    for bag in bags:\n",
    "         paths.extend([bag] + find_colors(bag))\n",
    "    \n",
    "    return paths"
   ]
  },
  {
   "cell_type": "code",
   "execution_count": 5,
   "metadata": {},
   "outputs": [],
   "source": [
    "bags = find_colors(target)"
   ]
  },
  {
   "cell_type": "code",
   "execution_count": 6,
   "metadata": {},
   "outputs": [
    {
     "name": "stdout",
     "output_type": "stream",
     "text": [
      "Answer: 238\n"
     ]
    }
   ],
   "source": [
    "print(f\"Answer:\", len(set(bags)))"
   ]
  },
  {
   "cell_type": "markdown",
   "metadata": {},
   "source": [
    "# Part Two\n",
    "---"
   ]
  },
  {
   "cell_type": "code",
   "execution_count": 7,
   "metadata": {},
   "outputs": [],
   "source": [
    "with open('rules.txt') as f:\n",
    "    lines = f.read().splitlines()\n",
    "\n",
    "rules = defaultdict(set)\n",
    "for line in lines:\n",
    "    key, bags = line.split('contain')\n",
    "    key = ' '.join(key.strip().split(' ')[:-1])\n",
    "    \n",
    "    if 'no other bags' in bags:\n",
    "        bags = dict()\n",
    "    else:\n",
    "        bags = {' '.join(bag.strip().split(' ')[1:-1]): bag.strip().split(' ')[0]\n",
    "                for bag in bags.strip().split(',')}\n",
    "    rules[key] = bags"
   ]
  },
  {
   "cell_type": "code",
   "execution_count": 8,
   "metadata": {},
   "outputs": [],
   "source": [
    "def sum_bags(bag):\n",
    "    bags = rules[bag]\n",
    "    if len(bags) == 0:\n",
    "        return 0\n",
    "    \n",
    "    count = 0\n",
    "    for bag in bags:\n",
    "        num_of_bags = int(bags[bag])\n",
    "        count += num_of_bags\n",
    "        count += num_of_bags * sum_bags(bag)\n",
    "    return count"
   ]
  },
  {
   "cell_type": "code",
   "execution_count": 9,
   "metadata": {},
   "outputs": [
    {
     "name": "stdout",
     "output_type": "stream",
     "text": [
      "Anser: 82930\n"
     ]
    }
   ],
   "source": [
    "print(f\"Anser: {sum_bags(target)}\")"
   ]
  }
 ],
 "metadata": {
  "kernelspec": {
   "display_name": "Python 3",
   "language": "python",
   "name": "python3"
  },
  "language_info": {
   "codemirror_mode": {
    "name": "ipython",
    "version": 3
   },
   "file_extension": ".py",
   "mimetype": "text/x-python",
   "name": "python",
   "nbconvert_exporter": "python",
   "pygments_lexer": "ipython3",
   "version": "3.8.5"
  }
 },
 "nbformat": 4,
 "nbformat_minor": 4
}
