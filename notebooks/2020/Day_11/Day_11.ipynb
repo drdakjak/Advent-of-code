{
 "cells": [
  {
   "cell_type": "code",
   "execution_count": 1,
   "metadata": {},
   "outputs": [],
   "source": [
    "import numpy as np"
   ]
  },
  {
   "cell_type": "markdown",
   "metadata": {},
   "source": [
    "# Part One\n",
    "---"
   ]
  },
  {
   "cell_type": "code",
   "execution_count": 2,
   "metadata": {},
   "outputs": [],
   "source": [
    "original_seats = []\n",
    "with open('seats.txt') as f:\n",
    "    for line in f:\n",
    "        line = line.strip()\n",
    "        original_seats.append([float('nan')] \n",
    "                     + [float(seat.replace('L', '0').replace('.', 'nan')) for seat in line]\n",
    "                     + [float('nan')]\n",
    "                    )\n",
    "original_seats = [[float('nan')] * len(original_seats[0])] + original_seats + [[float('nan')] * len(original_seats[0])]\n",
    "original_seats = np.array(original_seats)"
   ]
  },
  {
   "cell_type": "code",
   "execution_count": 3,
   "metadata": {},
   "outputs": [],
   "source": [
    "def get_adjacent_seats(i, j, seats):\n",
    "    \"\"\"\n",
    "    123\n",
    "    4 5\n",
    "    678\n",
    "    \"\"\"\n",
    "    \n",
    "    adjacent_seats = []\n",
    "    adjacent_seats.append(seats[i-1, j-1])\n",
    "    adjacent_seats.append(seats[i-1, j])\n",
    "    adjacent_seats.append(seats[i-1, j+1])\n",
    "    \n",
    "    adjacent_seats.append(seats[i, j-1])\n",
    "    adjacent_seats.append(seats[i, j+1])\n",
    "    \n",
    "    adjacent_seats.append(seats[i+1, j-1])\n",
    "    adjacent_seats.append(seats[i+1, j])\n",
    "    adjacent_seats.append(seats[i+1, j+1])\n",
    "    \n",
    "    return adjacent_seats"
   ]
  },
  {
   "cell_type": "code",
   "execution_count": 4,
   "metadata": {},
   "outputs": [],
   "source": [
    "num_rows, num_cols = original_seats.shape\n",
    "seats = original_seats.copy()\n",
    "while True:\n",
    "    prev_seats = seats.copy()\n",
    "    for row in range(1, num_rows-1):\n",
    "        for col in range(1, num_cols-1):\n",
    "            if np.isnan(prev_seats[row, col]):\n",
    "                continue\n",
    "            adjacent_seats = get_adjacent_seats(row, col, prev_seats)\n",
    "            if np.nansum(adjacent_seats) == 0:\n",
    "                seats[row, col] = 1\n",
    "            if np.nansum(adjacent_seats) >= 4:\n",
    "                seats[row, col] = 0\n",
    "                \n",
    "    if np.array_equal(prev_seats, seats, equal_nan=True):\n",
    "        break"
   ]
  },
  {
   "cell_type": "code",
   "execution_count": 5,
   "metadata": {},
   "outputs": [
    {
     "name": "stdout",
     "output_type": "stream",
     "text": [
      "Answer: 2424\n"
     ]
    }
   ],
   "source": [
    "print(f\"Answer: {np.nansum(seats).astype(int)}\")"
   ]
  },
  {
   "cell_type": "markdown",
   "metadata": {},
   "source": [
    "# Part Two\n",
    "---"
   ]
  },
  {
   "cell_type": "code",
   "execution_count": 6,
   "metadata": {},
   "outputs": [],
   "source": [
    "def get_num_of_visible_occupied_seats(i, j, seats):\n",
    "    \"\"\"\n",
    "    i: row\n",
    "    j: col\n",
    "    \n",
    "    153\n",
    "    7 8\n",
    "    462\n",
    "    \"\"\"\n",
    "    num_rows, num_cols = seats.shape\n",
    "    count = 0\n",
    "    for offset in range(1, min(i,j)):\n",
    "        occupation = seats[i-offset, j-offset]\n",
    "        if occupation == 1:\n",
    "            count += 1\n",
    "            break\n",
    "        if occupation == 0:\n",
    "            break\n",
    "                \n",
    "    for offset in range(1, min(num_rows-i, num_cols-j)):\n",
    "        occupation = seats[i+offset, j+offset]\n",
    "        if occupation == 1:\n",
    "            count += 1\n",
    "            break\n",
    "        if occupation == 0:\n",
    "            break\n",
    "                        \n",
    "            \n",
    "    for offset in range(1, min(i, num_cols-j)):\n",
    "        occupation = seats[i-offset, j+offset]\n",
    "        if occupation == 1:\n",
    "            count += 1\n",
    "            break\n",
    "        if occupation == 0:\n",
    "            break\n",
    "                \n",
    "    for offset in range(1, min(num_rows-i, j)):\n",
    "        occupation = seats[i+offset, j-offset]\n",
    "        if occupation == 1:\n",
    "            count += 1\n",
    "            break\n",
    "        if occupation == 0:\n",
    "            break\n",
    "            \n",
    "    for offset in range(1, i):\n",
    "        occupation = seats[i-offset, j]\n",
    "        if occupation == 1:\n",
    "            count += 1\n",
    "            break\n",
    "        if occupation == 0:\n",
    "            break\n",
    "                \n",
    "    for offset in range(1, num_rows-i):\n",
    "        occupation = seats[i+offset, j]\n",
    "        if occupation == 1:\n",
    "            count += 1\n",
    "            break\n",
    "        if occupation == 0:\n",
    "            break\n",
    "                \n",
    "    for offset in range(1, j):\n",
    "        occupation = seats[i, j-offset]\n",
    "        if occupation == 1:\n",
    "            count += 1\n",
    "            break\n",
    "        if occupation == 0:\n",
    "            break\n",
    "                \n",
    "    for offset in range(1, num_cols-j):\n",
    "        occupation = seats[i, j+offset]\n",
    "        if occupation == 1:\n",
    "            count += 1\n",
    "            break\n",
    "        if occupation == 0:\n",
    "            break\n",
    "    \n",
    "    return count"
   ]
  },
  {
   "cell_type": "code",
   "execution_count": 7,
   "metadata": {},
   "outputs": [],
   "source": [
    "seats = original_seats.copy()\n",
    "while True:\n",
    "    prev_seats = seats.copy()\n",
    "    for row in range(1, num_rows-1):\n",
    "        for col in range(1, num_cols-1):\n",
    "            if np.isnan(prev_seats[row, col]):\n",
    "                continue\n",
    "            num_of_visible_occupied_seats = get_num_of_visible_occupied_seats(row, col, prev_seats)\n",
    "            if num_of_visible_occupied_seats == 0:\n",
    "                seats[row, col] = 1\n",
    "            if num_of_visible_occupied_seats >= 5:\n",
    "                seats[row, col] = 0\n",
    "                \n",
    "    if np.array_equal(prev_seats, seats, equal_nan=True):\n",
    "        break"
   ]
  },
  {
   "cell_type": "code",
   "execution_count": 8,
   "metadata": {},
   "outputs": [
    {
     "name": "stdout",
     "output_type": "stream",
     "text": [
      "Answer: 2208\n"
     ]
    }
   ],
   "source": [
    "print(f\"Answer: {np.nansum(seats).astype(int)}\")"
   ]
  }
 ],
 "metadata": {
  "kernelspec": {
   "display_name": "Python 3",
   "language": "python",
   "name": "python3"
  },
  "language_info": {
   "codemirror_mode": {
    "name": "ipython",
    "version": 3
   },
   "file_extension": ".py",
   "mimetype": "text/x-python",
   "name": "python",
   "nbconvert_exporter": "python",
   "pygments_lexer": "ipython3",
   "version": "3.8.5"
  }
 },
 "nbformat": 4,
 "nbformat_minor": 4
}
