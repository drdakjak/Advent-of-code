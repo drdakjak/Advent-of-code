{
 "cells": [
  {
   "cell_type": "code",
   "execution_count": 1,
   "metadata": {},
   "outputs": [],
   "source": [
    "import numpy as np"
   ]
  },
  {
   "cell_type": "markdown",
   "metadata": {},
   "source": [
    "# Part One\n",
    "---"
   ]
  },
  {
   "cell_type": "code",
   "execution_count": 2,
   "metadata": {},
   "outputs": [],
   "source": [
    "adapters = [0]\n",
    "with open('adapters.txt') as f:\n",
    "    for line in f:\n",
    "        adapters.append(int(line.strip()))\n",
    "device = max(adapters) + 3\n",
    "adapters.append(device)\n",
    "adapters = np.array(adapters)"
   ]
  },
  {
   "cell_type": "code",
   "execution_count": 6,
   "metadata": {},
   "outputs": [],
   "source": [
    "differences = np.diff(np.sort(adapters))\n",
    "value_counts = np.bincount(differences)"
   ]
  },
  {
   "cell_type": "code",
   "execution_count": 4,
   "metadata": {},
   "outputs": [
    {
     "name": "stdout",
     "output_type": "stream",
     "text": [
      "Answer: 2414\n"
     ]
    }
   ],
   "source": [
    "print(f\"Answer: {value_counts[1] * value_counts[3]}\")"
   ]
  },
  {
   "cell_type": "markdown",
   "metadata": {},
   "source": [
    "# Part Two\n",
    "---"
   ]
  },
  {
   "cell_type": "code",
   "execution_count": 66,
   "metadata": {},
   "outputs": [],
   "source": [
    "pos = np.where(differences == 3)[0] + 1"
   ]
  },
  {
   "cell_type": "code",
   "execution_count": 70,
   "metadata": {},
   "outputs": [],
   "source": [
    "diff = np.diff([0] + list(pos)) - 2\n",
    "diff = diff[diff > 0]"
   ]
  },
  {
   "cell_type": "code",
   "execution_count": 73,
   "metadata": {},
   "outputs": [
    {
     "name": "stdout",
     "output_type": "stream",
     "text": [
      "Answer: 21156911906816\n"
     ]
    }
   ],
   "source": [
    "from functools import reduce\n",
    "\n",
    "number_of_ways = reduce(lambda x, y: x*y, (2**diff # number of variations between pairs of adapters\n",
    "                                           - (diff == 3) # remove unsatisfiable variations\n",
    "                                          )\n",
    "                       )\n",
    "print(f\"Answer: {number_of_ways}\")"
   ]
  }
 ],
 "metadata": {
  "kernelspec": {
   "display_name": "Python 3",
   "language": "python",
   "name": "python3"
  },
  "language_info": {
   "codemirror_mode": {
    "name": "ipython",
    "version": 3
   },
   "file_extension": ".py",
   "mimetype": "text/x-python",
   "name": "python",
   "nbconvert_exporter": "python",
   "pygments_lexer": "ipython3",
   "version": "3.8.5"
  }
 },
 "nbformat": 4,
 "nbformat_minor": 4
}
