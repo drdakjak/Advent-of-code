{
 "cells": [
  {
   "cell_type": "markdown",
   "metadata": {},
   "source": [
    "# Part One\n",
    "---"
   ]
  },
  {
   "cell_type": "code",
   "execution_count": 117,
   "metadata": {},
   "outputs": [
    {
     "name": "stdout",
     "output_type": "stream",
     "text": [
      "Answer: 232\n"
     ]
    }
   ],
   "source": [
    "inp = 2,1,10,11,0,6\n",
    "game_record = dict() # key:number; value:position\n",
    "game_record = {number: turn+1 for turn, number in enumerate(inp)}\n",
    "\n",
    "number = 0\n",
    "for nturn in range(len(inp)+1, 2020):\n",
    "    try:\n",
    "        last_pos = game_record[number]\n",
    "        game_record[number] = nturn\n",
    "    \n",
    "        number = nturn - last_pos\n",
    "        \n",
    "    except KeyError:\n",
    "        game_record[number] = nturn\n",
    "        number = 0\n",
    "        \n",
    "print(f\"Answer:\", number)"
   ]
  },
  {
   "cell_type": "markdown",
   "metadata": {},
   "source": [
    "# Part Two\n",
    "---"
   ]
  },
  {
   "cell_type": "code",
   "execution_count": 119,
   "metadata": {},
   "outputs": [
    {
     "name": "stdout",
     "output_type": "stream",
     "text": [
      "Answer: 18929178\n"
     ]
    }
   ],
   "source": [
    "inp = 2,1,10,11,0,6\n",
    "game_record = dict() # key:number; value:position\n",
    "game_record = {number: turn+1 for turn, number in enumerate(inp)}\n",
    "\n",
    "number = 0\n",
    "for nturn in range(len(inp)+1, 30000000):\n",
    "    try:\n",
    "        last_pos = game_record[number]\n",
    "        game_record[number] = nturn\n",
    "    \n",
    "        number = nturn - last_pos\n",
    "        \n",
    "    except KeyError:\n",
    "        game_record[number] = nturn\n",
    "        number = 0\n",
    "        \n",
    "print(f\"Answer:\", number)"
   ]
  }
 ],
 "metadata": {
  "kernelspec": {
   "display_name": "Python 3",
   "language": "python",
   "name": "python3"
  },
  "language_info": {
   "codemirror_mode": {
    "name": "ipython",
    "version": 3
   },
   "file_extension": ".py",
   "mimetype": "text/x-python",
   "name": "python",
   "nbconvert_exporter": "python",
   "pygments_lexer": "ipython3",
   "version": "3.8.5"
  }
 },
 "nbformat": 4,
 "nbformat_minor": 4
}
