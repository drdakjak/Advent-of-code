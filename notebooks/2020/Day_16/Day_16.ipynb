{
 "cells": [
  {
   "cell_type": "markdown",
   "metadata": {},
   "source": [
    "# Part One\n",
    "---"
   ]
  },
  {
   "cell_type": "code",
   "execution_count": 1,
   "metadata": {},
   "outputs": [],
   "source": [
    "import re\n",
    "import json"
   ]
  },
  {
   "cell_type": "code",
   "execution_count": 2,
   "metadata": {},
   "outputs": [],
   "source": [
    "rules = dict()\n",
    "my_ticket = None\n",
    "nearby_tickets = None\n",
    "\n",
    "with open('scan.txt') as f:\n",
    "    scan = f.read().split(\"\\n\\n\")\n",
    "    \n",
    "    rules = dict([line.split(':') for line in scan[0].splitlines()])\n",
    "    \n",
    "    my_ticket = scan[1].splitlines()[1]\n",
    "    my_ticket = [int(n) for n in my_ticket.split(',')]\n",
    "    \n",
    "    tickets = []\n",
    "    for line in scan[2].splitlines()[1:]:\n",
    "        tickets.append([int(n) for n in line.split(',')])"
   ]
  },
  {
   "cell_type": "code",
   "execution_count": 3,
   "metadata": {},
   "outputs": [],
   "source": [
    "def validate_pattern(number, pattern):\n",
    "    borders = [int(n) for n in re.findall('\\d+', pattern)]\n",
    "    return (borders[0] <= number <= borders[1]) or (borders[2] <= number <= borders[3])"
   ]
  },
  {
   "cell_type": "code",
   "execution_count": 4,
   "metadata": {},
   "outputs": [],
   "source": [
    "def validate(number):\n",
    "    return bool(sum([validate_pattern(number, pattern) for pattern in rules.values()]))"
   ]
  },
  {
   "cell_type": "code",
   "execution_count": 5,
   "metadata": {},
   "outputs": [],
   "source": [
    "invalide_numbers = []\n",
    "for ticket in tickets:\n",
    "    for number in ticket:\n",
    "        is_valid = validate(number)\n",
    "        if not is_valid:\n",
    "            invalide_numbers.append(number)"
   ]
  },
  {
   "cell_type": "code",
   "execution_count": 6,
   "metadata": {},
   "outputs": [],
   "source": [
    "error_rate = sum(invalide_numbers)"
   ]
  },
  {
   "cell_type": "code",
   "execution_count": 7,
   "metadata": {},
   "outputs": [
    {
     "name": "stdout",
     "output_type": "stream",
     "text": [
      "Answer: 26053\n"
     ]
    }
   ],
   "source": [
    "print(f\"Answer:\", error_rate)"
   ]
  },
  {
   "cell_type": "markdown",
   "metadata": {},
   "source": [
    "# Part Two\n",
    "---"
   ]
  },
  {
   "cell_type": "code",
   "execution_count": 8,
   "metadata": {},
   "outputs": [],
   "source": [
    "from collections import Counter, defaultdict\n",
    "from functools import reduce"
   ]
  },
  {
   "cell_type": "code",
   "execution_count": 9,
   "metadata": {},
   "outputs": [],
   "source": [
    "rule_positions = defaultdict(lambda: Counter())"
   ]
  },
  {
   "cell_type": "code",
   "execution_count": 10,
   "metadata": {},
   "outputs": [],
   "source": [
    "valid_tickets = [\n",
    "    ticket for ticket in tickets if sum([not validate(number) for number in ticket]) == 0\n",
    "]   "
   ]
  },
  {
   "cell_type": "code",
   "execution_count": 11,
   "metadata": {},
   "outputs": [],
   "source": [
    "for ticket in valid_tickets:\n",
    "    for pos, number in enumerate(ticket):\n",
    "        for rule, pattern in rules.items():\n",
    "            rule_positions[rule][pos] += validate_pattern(number, pattern)"
   ]
  },
  {
   "cell_type": "code",
   "execution_count": 12,
   "metadata": {},
   "outputs": [],
   "source": [
    "for rule in rule_positions:\n",
    "    valid_positions = [pos for pos, count in rule_positions[rule].items() if count == len(valid_tickets)] \n",
    "    rule_positions[rule] = valid_positions\n",
    "            "
   ]
  },
  {
   "cell_type": "code",
   "execution_count": 13,
   "metadata": {},
   "outputs": [],
   "source": [
    "eliminated_positions = set()\n",
    "for rule, positions in sorted(rule_positions.items(), key=lambda item: len(item[1])):\n",
    "    valid_positions = set(positions) - eliminated_positions\n",
    "    for pos in positions:\n",
    "        eliminated_positions.add(pos)\n",
    "    rule_positions[rule] = valid_positions"
   ]
  },
  {
   "cell_type": "code",
   "execution_count": 14,
   "metadata": {},
   "outputs": [],
   "source": [
    "departure_numbers = []\n",
    "for rule, pos in rule_positions.items():\n",
    "    if 'departure' in rule:\n",
    "        departure_numbers.append(my_ticket[pos.pop()])"
   ]
  },
  {
   "cell_type": "code",
   "execution_count": 15,
   "metadata": {},
   "outputs": [
    {
     "name": "stdout",
     "output_type": "stream",
     "text": [
      "Answer: 1515506256421\n"
     ]
    }
   ],
   "source": [
    "print(\"Answer:\", reduce(lambda x,y: x*y, departure_numbers))"
   ]
  }
 ],
 "metadata": {
  "kernelspec": {
   "display_name": "Python 3",
   "language": "python",
   "name": "python3"
  },
  "language_info": {
   "codemirror_mode": {
    "name": "ipython",
    "version": 3
   },
   "file_extension": ".py",
   "mimetype": "text/x-python",
   "name": "python",
   "nbconvert_exporter": "python",
   "pygments_lexer": "ipython3",
   "version": "3.8.5"
  }
 },
 "nbformat": 4,
 "nbformat_minor": 4
}
