{
 "cells": [
  {
   "cell_type": "code",
   "execution_count": 1,
   "metadata": {},
   "outputs": [],
   "source": [
    "import re"
   ]
  },
  {
   "cell_type": "markdown",
   "metadata": {},
   "source": [
    "# Part One\n",
    "---"
   ]
  },
  {
   "cell_type": "code",
   "execution_count": 2,
   "metadata": {},
   "outputs": [],
   "source": [
    "documentations = []\n",
    "with open('puzzle_input.txt') as f:\n",
    "    documentation = []\n",
    "    for line in f:\n",
    "        if line == '\\n':\n",
    "            documentations.append(dict(documentation))\n",
    "            documentation = []\n",
    "            continue\n",
    "            \n",
    "        for field in line.split(' '):\n",
    "            field = field.strip()\n",
    "            key, val = field.split(':')\n",
    "            key, val = key.strip(), val.strip()\n",
    "            documentation.append((key, val))\n",
    "    documentations.append(dict(documentation))\n",
    "       "
   ]
  },
  {
   "cell_type": "code",
   "execution_count": 3,
   "metadata": {},
   "outputs": [],
   "source": [
    "keys = {\n",
    "'byr', # (Birth Year)\n",
    "'iyr', # (Issue Year)\n",
    "'eyr', # (Expiration Year)\n",
    "'hgt', # (Height)\n",
    "'hcl', # (Hair Color)\n",
    "'ecl', # (Eye Color)\n",
    "'pid', # (Passport ID)\n",
    "# 'cid', # (Country ID)\n",
    "}"
   ]
  },
  {
   "cell_type": "code",
   "execution_count": 4,
   "metadata": {},
   "outputs": [],
   "source": [
    "num_of_valid = sum([len(keys & set(documentation.keys()))/len(keys) == 1 for documentation in documentations])"
   ]
  },
  {
   "cell_type": "code",
   "execution_count": 5,
   "metadata": {},
   "outputs": [
    {
     "data": {
      "text/plain": [
       "'Answer: 182'"
      ]
     },
     "execution_count": 5,
     "metadata": {},
     "output_type": "execute_result"
    }
   ],
   "source": [
    "f\"Answer: {num_of_valid}\""
   ]
  },
  {
   "cell_type": "markdown",
   "metadata": {},
   "source": [
    "# Part Two\n",
    "---"
   ]
  },
  {
   "cell_type": "code",
   "execution_count": 6,
   "metadata": {},
   "outputs": [],
   "source": [
    "re_hcl = re.compile('#[\\da-f]{6}$')\n",
    "re_pid = re.compile('^[\\d]{9}$')"
   ]
  },
  {
   "cell_type": "code",
   "execution_count": 7,
   "metadata": {},
   "outputs": [],
   "source": [
    "num_of_valid = 0\n",
    "for documentation in documentations:\n",
    "    valid = True\n",
    "    \n",
    "    byr = int(documentation.get('byr', -1))\n",
    "    if not (1920 <= byr <= 2002):\n",
    "        valid = False\n",
    "    \n",
    "    iyr = int(documentation.get('iyr', -1))    \n",
    "    if not (2010 <= iyr <= 2020):\n",
    "        valid = False\n",
    "        \n",
    "    eyr = int(documentation.get('eyr', -1))     \n",
    "    if not (2020 <= eyr <= 2030):\n",
    "        valid = False\n",
    "    \n",
    "    hgt = documentation.get('hgt', '')\n",
    "    if 'cm' in hgt:\n",
    "        hgt = int(hgt.replace('cm', ''))\n",
    "        if not (150 <= hgt <= 193):\n",
    "            valid = False\n",
    "    elif 'in' in hgt:\n",
    "        hgt = int(hgt.replace('in', ''))\n",
    "        if not (59 <= hgt <= 76):\n",
    "            valid = False\n",
    "    else:\n",
    "        valid = False\n",
    "    \n",
    "    hcl = documentation.get('hcl', '')\n",
    "    if not re_hcl.match(hcl):\n",
    "        valid = False\n",
    "    \n",
    "    ecl = documentation.get('ecl', '')\n",
    "    if ecl not in {'amb', 'blu', 'brn', 'gry', 'grn', 'hzl', 'oth'}:\n",
    "        valid = False\n",
    "        \n",
    "    pid = documentation.get('pid', '')\n",
    "    if not re_pid.match(pid):\n",
    "        valid = False\n",
    "    \n",
    "    num_of_valid += valid"
   ]
  },
  {
   "cell_type": "code",
   "execution_count": 8,
   "metadata": {},
   "outputs": [
    {
     "data": {
      "text/plain": [
       "'Answer: 109'"
      ]
     },
     "execution_count": 8,
     "metadata": {},
     "output_type": "execute_result"
    }
   ],
   "source": [
    "f\"Answer: {num_of_valid}\""
   ]
  }
 ],
 "metadata": {
  "kernelspec": {
   "display_name": "Python 3",
   "language": "python",
   "name": "python3"
  },
  "language_info": {
   "codemirror_mode": {
    "name": "ipython",
    "version": 3
   },
   "file_extension": ".py",
   "mimetype": "text/x-python",
   "name": "python",
   "nbconvert_exporter": "python",
   "pygments_lexer": "ipython3",
   "version": "3.8.5"
  }
 },
 "nbformat": 4,
 "nbformat_minor": 4
}
