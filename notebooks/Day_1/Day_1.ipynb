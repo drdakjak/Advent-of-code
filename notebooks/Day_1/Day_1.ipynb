{
 "cells": [
  {
   "cell_type": "code",
   "execution_count": 1,
   "metadata": {},
   "outputs": [],
   "source": [
    "import pandas as pd\n",
    "import numpy as np"
   ]
  },
  {
   "cell_type": "markdown",
   "metadata": {},
   "source": [
    "# Part One\n",
    "---"
   ]
  },
  {
   "cell_type": "code",
   "execution_count": 2,
   "metadata": {},
   "outputs": [],
   "source": [
    "report = pd.read_csv('report.csv', sep='\\n', names=['bill'])"
   ]
  },
  {
   "cell_type": "code",
   "execution_count": 3,
   "metadata": {},
   "outputs": [],
   "source": [
    "pairwise_sum = np.triu(report.values + report.values.T)"
   ]
  },
  {
   "cell_type": "code",
   "execution_count": 4,
   "metadata": {},
   "outputs": [],
   "source": [
    "i, j = np.where(pairwise_sum == 2020)\n",
    "i, j = i[0], j[0]"
   ]
  },
  {
   "cell_type": "code",
   "execution_count": 5,
   "metadata": {},
   "outputs": [],
   "source": [
    "values = report.values.ravel()"
   ]
  },
  {
   "cell_type": "code",
   "execution_count": 6,
   "metadata": {},
   "outputs": [
    {
     "name": "stdout",
     "output_type": "stream",
     "text": [
      "Answer: \n",
      "679 + 1341 = 2020\n",
      "679 * 1341 = 910539\n",
      "\n"
     ]
    }
   ],
   "source": [
    "print(f\"\"\"Answer: \n",
    "{values[i]} + {values[j]} = {values[i]+values[j]}\n",
    "{values[i]} * {values[j]} = {values[i]*values[j]}\n",
    "\"\"\")"
   ]
  },
  {
   "cell_type": "markdown",
   "metadata": {},
   "source": [
    "# Part Two\n",
    "---"
   ]
  },
  {
   "cell_type": "code",
   "execution_count": 7,
   "metadata": {},
   "outputs": [],
   "source": [
    "i, j, k = np.where(np.triu(pairwise_sum[:, :, np.newaxis] + report.values.T) == 2020)\n",
    "i, j, k = i[0], j[0], k[0]"
   ]
  },
  {
   "cell_type": "code",
   "execution_count": 8,
   "metadata": {},
   "outputs": [
    {
     "name": "stdout",
     "output_type": "stream",
     "text": [
      "Answer: \n",
      "912 + 977 + 131 = 2020\n",
      "912 * 977 * 131 = 116724144\n",
      "\n"
     ]
    }
   ],
   "source": [
    "print(f\"\"\"Answer: \n",
    "{values[i]} + {values[j]} + {values[k]} = {values[i]+values[j]+values[k]}\n",
    "{values[i]} * {values[j]} * {values[k]} = {values[i]*values[j]*values[k]}\n",
    "\"\"\")"
   ]
  }
 ],
 "metadata": {
  "kernelspec": {
   "display_name": "Python 3",
   "language": "python",
   "name": "python3"
  },
  "language_info": {
   "codemirror_mode": {
    "name": "ipython",
    "version": 3
   },
   "file_extension": ".py",
   "mimetype": "text/x-python",
   "name": "python",
   "nbconvert_exporter": "python",
   "pygments_lexer": "ipython3",
   "version": "3.8.5"
  }
 },
 "nbformat": 4,
 "nbformat_minor": 4
}
