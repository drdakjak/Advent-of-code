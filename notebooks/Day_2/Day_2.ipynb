{
 "cells": [
  {
   "cell_type": "code",
   "execution_count": 1,
   "metadata": {},
   "outputs": [],
   "source": [
    "import pandas as pd\n",
    "import re"
   ]
  },
  {
   "cell_type": "markdown",
   "metadata": {},
   "source": [
    "# Part One\n",
    "---"
   ]
  },
  {
   "cell_type": "code",
   "execution_count": 2,
   "metadata": {},
   "outputs": [],
   "source": [
    "counter = 0\n",
    "with open('passwords.txt') as f:\n",
    "    for line in f.readlines():\n",
    "        policy, char, password = line.split(' ')\n",
    "        \n",
    "        lower, upper = policy.split('-')\n",
    "        lower, upper = int(lower), int(upper)\n",
    "        \n",
    "        char, password = char[:-1], password[:-1]\n",
    "        \n",
    "        num_occurences = len(re.findall(char, password))\n",
    "        \n",
    "        counter += int(lower <= num_occurences <= upper)"
   ]
  },
  {
   "cell_type": "code",
   "execution_count": 3,
   "metadata": {},
   "outputs": [
    {
     "data": {
      "text/plain": [
       "'Answer: 434'"
      ]
     },
     "execution_count": 3,
     "metadata": {},
     "output_type": "execute_result"
    }
   ],
   "source": [
    "f\"Answer: {counter}\""
   ]
  },
  {
   "cell_type": "markdown",
   "metadata": {},
   "source": [
    "# Part Two\n",
    "---"
   ]
  },
  {
   "cell_type": "code",
   "execution_count": 16,
   "metadata": {},
   "outputs": [],
   "source": [
    "counter = 0\n",
    "with open('passwords.txt') as f:\n",
    "    for line in f.readlines():\n",
    "        policy, char, password = line.split(' ')\n",
    "        \n",
    "        ix1, ix2 = policy.split('-')\n",
    "        ix1, ix2 = int(ix1) - 1, int(ix2) - 1 \n",
    "        char, password = char[:-1], password[:-1]\n",
    "        \n",
    "        counter += int((int(password[ix1] == char) + int(password[ix2] == char)) == 1)"
   ]
  },
  {
   "cell_type": "code",
   "execution_count": 17,
   "metadata": {},
   "outputs": [
    {
     "data": {
      "text/plain": [
       "'Answer: 509'"
      ]
     },
     "execution_count": 17,
     "metadata": {},
     "output_type": "execute_result"
    }
   ],
   "source": [
    "f\"Answer: {counter}\""
   ]
  }
 ],
 "metadata": {
  "kernelspec": {
   "display_name": "Python 3",
   "language": "python",
   "name": "python3"
  },
  "language_info": {
   "codemirror_mode": {
    "name": "ipython",
    "version": 3
   },
   "file_extension": ".py",
   "mimetype": "text/x-python",
   "name": "python",
   "nbconvert_exporter": "python",
   "pygments_lexer": "ipython3",
   "version": "3.8.5"
  }
 },
 "nbformat": 4,
 "nbformat_minor": 4
}
